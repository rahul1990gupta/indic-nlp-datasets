{
  "nbformat": 4,
  "nbformat_minor": 0,
  "metadata": {
    "colab": {
      "name": "synonyms-in-hindi.ipynb",
      "provenance": [],
      "authorship_tag": "ABX9TyOyJnL7q1Is6tMZG4xKY3sq",
      "include_colab_link": true
    },
    "kernelspec": {
      "name": "python3",
      "display_name": "Python 3"
    }
  },
  "cells": [
    {
      "cell_type": "markdown",
      "metadata": {
        "id": "view-in-github",
        "colab_type": "text"
      },
      "source": [
        "<a href=\"https://colab.research.google.com/github/rahul1990gupta/indic-nlp-datasets/blob/master/examples/synonyms_in_hindi.ipynb\" target=\"_parent\"><img src=\"https://colab.research.google.com/assets/colab-badge.svg\" alt=\"Open In Colab\"/></a>"
      ]
    },
    {
      "cell_type": "code",
      "metadata": {
        "id": "6_m6IoA9EfRa",
        "colab_type": "code",
        "colab": {
          "base_uri": "https://localhost:8080/",
          "height": 294
        },
        "outputId": "0eb8f869-30ce-4927-9f75-66c3a4f59754"
      },
      "source": [
        "# In last notebook, we unsuccessfully tried to get synonyms in spaCy using word vectors \n",
        "# Next, I looked into nltk which has really good wordnet database, but it doesn't has the wordnet for Hindi \n",
        "# After a bit of googling, I found out that IITB has been developing wordnet for indian languages for quite a while \n",
        "# Link: http://compling.hss.ntu.edu.sg/events/2018-gwc/pdfs/GWC2018_paper_40.pdf\n",
        "# they published a python pyiwn for an easy access. They haven't yet put it in nltk yet because synsets aren't fully developed yet.\n",
        "# With that, Let's dive in\n",
        "\n",
        "! pip install pyiwn \n"
      ],
      "execution_count": 1,
      "outputs": [
        {
          "output_type": "stream",
          "text": [
            "Collecting pyiwn\n",
            "  Downloading https://files.pythonhosted.org/packages/f1/80/55d7412ed602071de200b74d75f7cba8c9b4fe6a2f3df33c6d5cd0e6cb83/pyiwn-0.0.5-py3-none-any.whl\n",
            "Requirement already satisfied: pandas in /usr/local/lib/python3.6/dist-packages (from pyiwn) (1.0.5)\n",
            "Requirement already satisfied: requests in /usr/local/lib/python3.6/dist-packages (from pyiwn) (2.23.0)\n",
            "Requirement already satisfied: numpy>=1.13.3 in /usr/local/lib/python3.6/dist-packages (from pandas->pyiwn) (1.18.5)\n",
            "Requirement already satisfied: pytz>=2017.2 in /usr/local/lib/python3.6/dist-packages (from pandas->pyiwn) (2018.9)\n",
            "Requirement already satisfied: python-dateutil>=2.6.1 in /usr/local/lib/python3.6/dist-packages (from pandas->pyiwn) (2.8.1)\n",
            "Requirement already satisfied: certifi>=2017.4.17 in /usr/local/lib/python3.6/dist-packages (from requests->pyiwn) (2020.6.20)\n",
            "Requirement already satisfied: urllib3!=1.25.0,!=1.25.1,<1.26,>=1.21.1 in /usr/local/lib/python3.6/dist-packages (from requests->pyiwn) (1.24.3)\n",
            "Requirement already satisfied: idna<3,>=2.5 in /usr/local/lib/python3.6/dist-packages (from requests->pyiwn) (2.10)\n",
            "Requirement already satisfied: chardet<4,>=3.0.2 in /usr/local/lib/python3.6/dist-packages (from requests->pyiwn) (3.0.4)\n",
            "Requirement already satisfied: six>=1.5 in /usr/local/lib/python3.6/dist-packages (from python-dateutil>=2.6.1->pandas->pyiwn) (1.15.0)\n",
            "Installing collected packages: pyiwn\n",
            "Successfully installed pyiwn-0.0.5\n"
          ],
          "name": "stdout"
        }
      ]
    },
    {
      "cell_type": "code",
      "metadata": {
        "id": "uEaYnMcYhk5-",
        "colab_type": "code",
        "colab": {
          "base_uri": "https://localhost:8080/",
          "height": 35
        },
        "outputId": "90bc2645-7de8-444e-d456-05ffd0252e78"
      },
      "source": [
        "import pyiwn \n",
        "iwn = pyiwn.IndoWordNet(lang=pyiwn.Language.HINDI) "
      ],
      "execution_count": 5,
      "outputs": [
        {
          "output_type": "stream",
          "text": [
            "2020-08-21:15:01:08,549 INFO     [iwn.py:43] Loading hindi language synsets...\n"
          ],
          "name": "stderr"
        }
      ]
    },
    {
      "cell_type": "code",
      "metadata": {
        "id": "RGSIzfhSiCTN",
        "colab_type": "code",
        "colab": {}
      },
      "source": [
        "aam_all_synsets = iwn.synsets('आम') # Mango"
      ],
      "execution_count": 6,
      "outputs": []
    },
    {
      "cell_type": "code",
      "metadata": {
        "id": "ANLcpX_CiXYw",
        "colab_type": "code",
        "colab": {
          "base_uri": "https://localhost:8080/",
          "height": 182
        },
        "outputId": "522442b0-798e-4dab-aa95-019ce2d256bb"
      },
      "source": [
        "aam_all_synsets"
      ],
      "execution_count": 7,
      "outputs": [
        {
          "output_type": "execute_result",
          "data": {
            "text/plain": [
              "[Synset('कच्चा.adjective.2283'),\n",
              " Synset('अधपका.adjective.2697'),\n",
              " Synset('आम.noun.3462'),\n",
              " Synset('आम.noun.3463'),\n",
              " Synset('सामान्य.adjective.3468'),\n",
              " Synset('सामूहिक.adjective.3469'),\n",
              " Synset('आँव.noun.6253'),\n",
              " Synset('आँव.noun.8446'),\n",
              " Synset('आम.adjective.39736')]"
            ]
          },
          "metadata": {
            "tags": []
          },
          "execution_count": 7
        }
      ]
    },
    {
      "cell_type": "code",
      "metadata": {
        "id": "GxBmht6zid45",
        "colab_type": "code",
        "colab": {
          "base_uri": "https://localhost:8080/",
          "height": 36
        },
        "outputId": "b55dc8d9-d067-4075-83ba-54930eb6b9aa"
      },
      "source": [
        "# Very interesting to see that our synsets of the word include both meaning of the word: Mango and common\n",
        "# Let's pick one synset and different synonyms in the synset\n",
        "aam = aam_all_synsets[2]\n",
        "\n",
        "# Let's took at the definition \n",
        "aam.gloss()"
      ],
      "execution_count": 12,
      "outputs": [
        {
          "output_type": "execute_result",
          "data": {
            "application/vnd.google.colaboratory.intrinsic+json": {
              "type": "string"
            },
            "text/plain": [
              "'एक फल जो खाया या चूसा जाता है'"
            ]
          },
          "metadata": {
            "tags": []
          },
          "execution_count": 12
        }
      ]
    },
    {
      "cell_type": "code",
      "metadata": {
        "id": "ue2y3QTDjTFP",
        "colab_type": "code",
        "colab": {
          "base_uri": "https://localhost:8080/",
          "height": 54
        },
        "outputId": "5c4b8663-8c53-4232-9274-cdb4eced2871"
      },
      "source": [
        "# This will print examples where the word is being used\n",
        "aam.examples()"
      ],
      "execution_count": 13,
      "outputs": [
        {
          "output_type": "execute_result",
          "data": {
            "text/plain": [
              "['तोता पेड़ पर बैठकर आम खा रहा है ।',\n",
              " 'शास्त्रों ने आम को इंद्रासनी फल की संज्ञा दी है ।']"
            ]
          },
          "metadata": {
            "tags": []
          },
          "execution_count": 13
        }
      ]
    },
    {
      "cell_type": "code",
      "metadata": {
        "id": "sLnm__8ElZpU",
        "colab_type": "code",
        "colab": {
          "base_uri": "https://localhost:8080/",
          "height": 274
        },
        "outputId": "16288bf3-e0d6-42bf-8f99-9553198713d2"
      },
      "source": [
        "# Now, let's look at the synonyms for the word \n",
        "aam.lemma_names()"
      ],
      "execution_count": 14,
      "outputs": [
        {
          "output_type": "execute_result",
          "data": {
            "text/plain": [
              "['आम',\n",
              " 'आम्र',\n",
              " 'अंब',\n",
              " 'अम्ब',\n",
              " 'आँब',\n",
              " 'आंब',\n",
              " 'रसाल',\n",
              " 'च्यूत',\n",
              " 'प्रियांबु',\n",
              " 'प्रियाम्बु',\n",
              " 'केशवायुध',\n",
              " 'कामायुध',\n",
              " 'कामशर',\n",
              " 'कामांग']"
            ]
          },
          "metadata": {
            "tags": []
          },
          "execution_count": 14
        }
      ]
    },
    {
      "cell_type": "code",
      "metadata": {
        "id": "uWy3615Pll82",
        "colab_type": "code",
        "colab": {
          "base_uri": "https://localhost:8080/",
          "height": 109
        },
        "outputId": "1919169f-59c9-47ea-83e2-8df2237a6f9f"
      },
      "source": [
        "# Let's print some Hyponyms for our synset \n",
        "# A is a Hyponym of B if A is a type of B. For example pigeon is a bird, so pigeon is a hyponym of Bird\n",
        "iwn.synset_relation(aam, pyiwn.SynsetRelations.HYPONYMY)[:5]"
      ],
      "execution_count": 16,
      "outputs": [
        {
          "output_type": "execute_result",
          "data": {
            "text/plain": [
              "[Synset('सफेदा.noun.1294'),\n",
              " Synset('अंबिया.noun.2888'),\n",
              " Synset('सिंदूरिया.noun.8636'),\n",
              " Synset('जरदालू.noun.4724'),\n",
              " Synset('तोतापरी.noun.6892')]"
            ]
          },
          "metadata": {
            "tags": []
          },
          "execution_count": 16
        }
      ]
    },
    {
      "cell_type": "code",
      "metadata": {
        "id": "VkmUTbZimrxu",
        "colab_type": "code",
        "colab": {}
      },
      "source": [
        "# Now that we have played around with wordnet for a while. \n",
        "# Let's recap what a wordnet is \n",
        "# WordNet aims to store the meaning of words alongwith relationship between words. \n",
        "# So, in a sense Wordnet = Language Dictionary + Thesauras + Hierarchical IS-A relationships for nouns + More \n",
        "# Super Fun !"
      ],
      "execution_count": null,
      "outputs": []
    }
  ]
}