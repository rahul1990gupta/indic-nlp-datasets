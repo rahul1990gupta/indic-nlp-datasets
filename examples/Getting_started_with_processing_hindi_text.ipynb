{
  "nbformat": 4,
  "nbformat_minor": 0,
  "metadata": {
    "colab": {
      "name": "Gettinng_started_with_processing_hindi_text.ipynb",
      "provenance": [],
      "authorship_tag": "ABX9TyNf3vAFJU/Y8nwAzD9yw+h4",
      "include_colab_link": true
    },
    "kernelspec": {
      "name": "python3",
      "display_name": "Python 3"
    }
  },
  "cells": [
    {
      "cell_type": "markdown",
      "metadata": {
        "id": "view-in-github",
        "colab_type": "text"
      },
      "source": [
        "<a href=\"https://colab.research.google.com/github/rahul1990gupta/indic-nlp-datasets/blob/master/examples/Getting_started_with_processing_hindi_text.ipynb\" target=\"_parent\"><img src=\"https://colab.research.google.com/assets/colab-badge.svg\" alt=\"Open In Colab\"/></a>"
      ]
    },
    {
      "cell_type": "code",
      "metadata": {
        "id": "aqjCQxMnTUlo",
        "colab_type": "code",
        "colab": {
          "base_uri": "https://localhost:8080/",
          "height": 54
        },
        "outputId": "384913fe-0eed-455b-b0c9-1f650ac9bc8d"
      },
      "source": [
        "# Set up the required libraries \n",
        "! pip install indic-nlp-datasets==0.1.2"
      ],
      "execution_count": 1,
      "outputs": [
        {
          "output_type": "stream",
          "text": [
            "Requirement already satisfied: indic-nlp-datasets==0.1.2 in /usr/local/lib/python3.6/dist-packages (0.1.2)\n",
            "Requirement already satisfied: tqdm in /usr/local/lib/python3.6/dist-packages (from indic-nlp-datasets==0.1.2) (4.41.1)\n"
          ],
          "name": "stdout"
        }
      ]
    },
    {
      "cell_type": "code",
      "metadata": {
        "id": "mT6vYEEqTjue",
        "colab_type": "code",
        "colab": {}
      },
      "source": [
        "from idatasets import load_devdas\n",
        "\n",
        "devdas = load_devdas()\n",
        "# devdas.data is a generator of paragraphs\n",
        "paragraphs = list(devdas.data)\n",
        "text = \" \".join(paragraphs)\n",
        "words = text.split(\" \")"
      ],
      "execution_count": 2,
      "outputs": []
    },
    {
      "cell_type": "code",
      "metadata": {
        "id": "haD0uuJxT7BH",
        "colab_type": "code",
        "colab": {
          "base_uri": "https://localhost:8080/",
          "height": 36
        },
        "outputId": "9d505cb3-3960-4494-b9ce-b202bc68596a"
      },
      "source": [
        "words[0]"
      ],
      "execution_count": 3,
      "outputs": [
        {
          "output_type": "execute_result",
          "data": {
            "application/vnd.google.colaboratory.intrinsic+json": {
              "type": "string"
            },
            "text/plain": [
              "'देवदास'"
            ]
          },
          "metadata": {
            "tags": []
          },
          "execution_count": 3
        }
      ]
    },
    {
      "cell_type": "code",
      "metadata": {
        "id": "lElg1KALVEM3",
        "colab_type": "code",
        "colab": {}
      },
      "source": [
        ""
      ],
      "execution_count": null,
      "outputs": []
    }
  ]
}